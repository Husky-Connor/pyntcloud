{
 "cells": [
  {
   "cell_type": "markdown",
   "metadata": {},
   "source": [
    "# PYNTCLOUD POINT CLOUD VIEWING UTILITY\n",
    "\n",
    "This utility enables you to plot generate point clouds from a '.raw' file using both ndarrays and dataframes. The standard backend is either three.js or pythree.js,the latter allowing you to view all point-clouds within your jupyter notebook. You can save your point cloud as a '.ply'."
   ]
  },
  {
   "cell_type": "code",
   "execution_count": 1,
   "metadata": {},
   "outputs": [],
   "source": [
    "import numpy as np\n",
    "import pandas as pd\n",
    "import os\n",
    "from pyntcloud import PyntCloud\n",
    "import matplotlib\n",
    "import matplotlib.pyplot as plt\n",
    "import math\n",
    "import subprocess\n",
    "import glob\n",
    "import time"
   ]
  },
  {
   "cell_type": "markdown",
   "metadata": {},
   "source": [
    "### map_to_plane\n",
    "Takes in the x and y indeces of the ndarray, \n",
    "as well as the depth values and determines the corrected \n",
    "x position, y position and depth based on the focal length \n",
    "of the camera."
   ]
  },
  {
   "cell_type": "code",
   "execution_count": 2,
   "metadata": {},
   "outputs": [],
   "source": [
    "def map_to_plane(x_index, y_index, tof_depth, width, height):\n",
    "    # Compute d\n",
    "    focal_length = 451.19988773439741\n",
    "    x_center = (width - 1) / 2\n",
    "    y_center = (height - 1) / 2\n",
    "    delta_x = (x_index - x_center)\n",
    "    delta_y = (y_index - y_center)\n",
    "    d = math.sqrt(delta_x**2 + delta_y**2)\n",
    "    \n",
    "    # Compute lens angle and plane angle\n",
    "    theta = math.atan(d/focal_length)\n",
    "    phi = math.atan(delta_x/delta_y)\n",
    "    \n",
    "    # Compute planar coords\n",
    "    planar_z = math.cos(theta) * tof_depth\n",
    "    scaling_factor = (-1) * planar_z / focal_length\n",
    "    planar_x = scaling_factor * delta_x\n",
    "    planar_y = scaling_factor * delta_y\n",
    "    \n",
    "    return planar_x, planar_y, planar_z"
   ]
  },
  {
   "cell_type": "markdown",
   "metadata": {},
   "source": [
    "### raw_to_ndarray\n",
    "Takes a filename and width, reads in data \n",
    "from a '.raw' file into a 1D ndarray, reshapes the array \n",
    "based on width,uses MAP_TO_PLANE to compute the x, y and z \n",
    "position of each point and stores them in a 3 column array."
   ]
  },
  {
   "cell_type": "code",
   "execution_count": 3,
   "metadata": {},
   "outputs": [],
   "source": [
    "def raw_to_ndarray(depth_file, width):\n",
    "    # Read file into ndarray\n",
    "    depth_list = np.fromfile(depth_file, dtype='float32')\n",
    "    # Reshape ndarray\n",
    "    depth_map = np.reshape(depth_list, (-1, width))\n",
    "    height = depth_map.size / width\n",
    "    # Allocate points ndarray\n",
    "    np_points = np.zeros(shape=(depth_list.size, 3))\n",
    "    gen_pos = 0\n",
    "    # Fill points ndarray\n",
    "    for index, depth in np.ndenumerate(depth_map):\n",
    "        x_pos, y_pos, z_pos = map_to_plane(index[1],\n",
    "                                           index[0],\n",
    "                                           depth,\n",
    "                                           width,\n",
    "                                           height)\n",
    "        np_points[gen_pos] = [x_pos, z_pos, y_pos]\n",
    "        gen_pos += 1\n",
    "    \n",
    "    np_points, discarded_points = np.vsplit(np_points, np.array([480 * width]))\n",
    "    return np_points"
   ]
  },
  {
   "cell_type": "markdown",
   "metadata": {},
   "source": [
    "### get_point_cloud\n",
    "Takes in a 3-column ndarray and casts it into a pandas dataframe with column labels ['x', 'y', 'z'],then uses the Pyntcloud library to instantiate a pyntcloud object from the dataframe."
   ]
  },
  {
   "cell_type": "code",
   "execution_count": 4,
   "metadata": {},
   "outputs": [],
   "source": [
    "def get_point_cloud(np_points):\n",
    "    # Convert to pandas data frame\n",
    "    pandas_points = pd.DataFrame(np_points, columns=['x', 'y', 'z'])\n",
    "    # Construct cloud from data frame\n",
    "    cloud = PyntCloud(pandas_points)\n",
    "    return cloud"
   ]
  },
  {
   "cell_type": "markdown",
   "metadata": {},
   "source": [
    "### filter_cloud\n",
    "Saves pre-filtered state as a scene, then \n",
    "applies the specified filter with the variables defined \n",
    "by val_1 and val_2."
   ]
  },
  {
   "cell_type": "code",
   "execution_count": 5,
   "metadata": {},
   "outputs": [],
   "source": [
    "def filter_cloud(cloud, filt_type, val_1, val_2):\n",
    "    # Save state before filter\n",
    "    scene = cloud.plot(backend=\"pythreejs\", initial_point_size=10, \n",
    "                   use_as_color=\"z\", cmap=\"Wistia_r\", return_scene=True)\n",
    "    # Apply KDTree filter\n",
    "    kdtree_id = cloud.add_structure(\"kdtree\")\n",
    "    if filt_type == 'SOR':\n",
    "        cloud.get_filter(\"SOR\", and_apply=True, kdtree_id=kdtree_id, k=val_1, z_max=val_2)\n",
    "    elif filt_type == 'ROR':\n",
    "        cloud.get_filter(\"ROR\", and_apply=True, kdtree_id=kdtree_id, k=val_1, r=val_2)\n",
    "    else:\n",
    "        print('Invalid filter type.\\nValid options are:\\nSOR\\nROR')\n",
    "    \n",
    "    # Return prior state\n",
    "    return scene"
   ]
  },
  {
   "cell_type": "markdown",
   "metadata": {},
   "source": [
    "### x_plot\n",
    "Cross-plots two point clouds in the same window using both a cloud and a saved scene. Also accepts an offset axis that allows point clouds to be positioned next to each other rather than overlaid."
   ]
  },
  {
   "cell_type": "code",
   "execution_count": 6,
   "metadata": {},
   "outputs": [],
   "source": [
    "def x_plot(scene, cloud_2, offset = None):\n",
    "    \n",
    "    if offset is 'x':\n",
    "        cloud.xyz[:,0] += 2 * np.amax(cloud.xyz[:,0]) + 1000\n",
    "    elif offset is 'y':\n",
    "        cloud.xyz[:,1] += 2 * np.amax(cloud.xyz[:,1]) + 1000\n",
    "    elif offset is 'z':\n",
    "        cloud.xyz[:,2] += np.amax(cloud.xyz[:,2])\n",
    "    else:\n",
    "        pass\n",
    "    \n",
    "    cloud_2.plot(backend=\"pythreejs\", initial_point_size=10, \n",
    "             use_as_color=\"z\", cmap=\"cool_r\", scene=scene)\n"
   ]
  },
  {
   "cell_type": "markdown",
   "metadata": {},
   "source": [
    "### get_io\n",
    "Determines input and output files using a string \n",
    "of 4 ints 'xxxx' and calls RAW_TO_NDARRAY. Returns both the\n",
    "3-column ndarray and the output file path."
   ]
  },
  {
   "cell_type": "code",
   "execution_count": 7,
   "metadata": {},
   "outputs": [],
   "source": [
    "def get_io(file_path, width):\n",
    "    base_name = os.path.basename(file_path)\n",
    "    file_name, ext = os.path.splitext(base_name)\n",
    "    dest_path = os.path.join('ply_files', file_name + '.ply')\n",
    "    if not os.path.isdir('ply_files'):\n",
    "        subprocess.check_call(['mkdir', 'ply_files'])\n",
    "    np_points = raw_to_ndarray(file_path, width)\n",
    "    return np_points, dest_path"
   ]
  },
  {
   "cell_type": "markdown",
   "metadata": {},
   "source": [
    "### get_lines\n",
    "Plots a red, a green and a blue line corresponding to the x, y and z axes respectively centered around the origin"
   ]
  },
  {
   "cell_type": "code",
   "execution_count": 8,
   "metadata": {},
   "outputs": [],
   "source": [
    "def get_lines():\n",
    "    scaling = 2**14\n",
    "    horiz_fov = 74\n",
    "    vert_fov = 49\n",
    "    x = scaling * math.sin(horiz_fov*math.pi/360)\n",
    "    z = scaling * math.tan(vert_fov*math.pi/360)\n",
    "    y = scaling * math.cos(horiz_fov*math.pi/360)\n",
    "    \n",
    "    corner_1 = [x,y,z]\n",
    "    corner_2 = [-x,y,z]\n",
    "    corner_3 = [-x,y,-z]\n",
    "    corner_4 = [x,y,-z]\n",
    "    \n",
    "    lines = [\n",
    "        # X,Y,Z Axes lines\n",
    "        {\n",
    "            \"color\": \"red\",\n",
    "            \"vertices\": [[0,0,0], [1000,0,0]]\n",
    "        },\n",
    "        {\n",
    "            \"color\": \"blue\",\n",
    "            \"vertices\": [[0,0,0], [0,1000,0]]\n",
    "        },\n",
    "        {\n",
    "            \"color\": \"green\",\n",
    "            \"vertices\": [[0,0,0], [0,0,1000]]\n",
    "        },\n",
    "        # FOV Lines\n",
    "        {\n",
    "            \"color\": \"white\",\n",
    "            \"vertices\": [[0,0,0], [x, y, z]]\n",
    "        },\n",
    "        {\n",
    "            \"color\": \"white\",\n",
    "            \"vertices\": [[0,0,0], [-x, y, z]]\n",
    "        },\n",
    "        {\n",
    "            \"color\": \"white\",\n",
    "            \"vertices\": [[0,0,0], [x, y, -z]]\n",
    "        },\n",
    "        {\n",
    "            \"color\": \"white\",\n",
    "            \"vertices\": [[0,0,0], [-x, y, -z]]\n",
    "        },\n",
    "        # Frustums\n",
    "        {\n",
    "            \"color\": \"white\",\n",
    "            \"vertices\": [corner_1, corner_2, corner_3, corner_4, corner_1]\n",
    "        },\n",
    "        {\n",
    "            \"color\": \"gray\",\n",
    "            \"vertices\": [[i * 0.25 for i in corner_1],\n",
    "                         [i * 0.25 for i in corner_2], \n",
    "                         [i * 0.25 for i in corner_3],\n",
    "                         [i * 0.25 for i in corner_4],\n",
    "                         [i * 0.25 for i in corner_1]]\n",
    "        },\n",
    "        {\n",
    "            \"color\": \"gray\",\n",
    "            \"vertices\": [[i * 0.50 for i in corner_1],\n",
    "                         [i * 0.50 for i in corner_2], \n",
    "                         [i * 0.50 for i in corner_3],\n",
    "                         [i * 0.50 for i in corner_4],\n",
    "                         [i * 0.50 for i in corner_1]]\n",
    "        },\n",
    "        {\n",
    "            \"color\": \"gray\",\n",
    "            \"vertices\": [[i * 0.75 for i in corner_1],\n",
    "                         [i * 0.75 for i in corner_2], \n",
    "                         [i * 0.75 for i in corner_3],\n",
    "                         [i * 0.75 for i in corner_4],\n",
    "                         [i * 0.75 for i in corner_1]]\n",
    "        }\n",
    "    ]\n",
    "    \n",
    "    \n",
    "    \n",
    "    return lines"
   ]
  },
  {
   "cell_type": "markdown",
   "metadata": {},
   "source": [
    "### Controls for Point Cloud Viewer:\n",
    "#### Zoom: `Scroll` | Orbit: `Left Click and Drag` | Shift: `Right Click and Drag`"
   ]
  },
  {
   "cell_type": "markdown",
   "metadata": {},
   "source": [
    "### Get point cloud from `.raw`"
   ]
  },
  {
   "cell_type": "code",
   "execution_count": 9,
   "metadata": {
    "scrolled": false
   },
   "outputs": [],
   "source": [
    "#raw_path = '/Users/crog/Documents/tof_proc_lib_ap/test_data/ref_image_files/Man_Scene_Data'\n",
    "raw_path = '/Users/crog/Documents/pointcloud/depth_output_files'\n",
    "raw_file = os.path.join(raw_path, 'depth_output_0009.raw')\n",
    "np_points, dest_path = get_io(raw_file, 668)\n",
    "cloud = get_point_cloud(np_points)\n",
    "lines = get_lines()"
   ]
  },
  {
   "cell_type": "markdown",
   "metadata": {},
   "source": [
    "### Plot unfiltered point cloud with pythreejs backend"
   ]
  },
  {
   "cell_type": "code",
   "execution_count": 10,
   "metadata": {},
   "outputs": [
    {
     "name": "stderr",
     "output_type": "stream",
     "text": [
      "/anaconda3/envs/pyntcloud/lib/python3.6/site-packages/pythreejs/traits.py:177: UserWarning: 64-bit data types not supported for WebGL data, casting to 32-bit.\n",
      "  warnings.warn('64-bit data types not supported for WebGL '\n"
     ]
    },
    {
     "data": {
      "application/vnd.jupyter.widget-view+json": {
       "model_id": "8ea7284ac069467d86498dc37eda82fe",
       "version_major": 2,
       "version_minor": 0
      },
      "text/plain": [
       "Renderer(camera=PerspectiveCamera(aspect=1.6, far=16777216.0, fov=90.0, position=(0.0, -10.0, 0.0), quaternion…"
      ]
     },
     "metadata": {},
     "output_type": "display_data"
    },
    {
     "data": {
      "application/vnd.jupyter.widget-view+json": {
       "model_id": "03d4d4b8a56444309837d0a585053cec",
       "version_major": 2,
       "version_minor": 0
      },
      "text/plain": [
       "HBox(children=(Label(value='Point size:'), FloatSlider(value=10.0), Label(value='Background color:'), ColorPic…"
      ]
     },
     "metadata": {},
     "output_type": "display_data"
    }
   ],
   "source": [
    "cloud.plot(backend=\"pythreejs\", initial_point_size=10, use_as_color=\"y\", cmap=\"viridis_r\", polylines=lines)"
   ]
  },
  {
   "cell_type": "markdown",
   "metadata": {},
   "source": [
    "### Plot unfiltered point cloud with threejs backend"
   ]
  },
  {
   "cell_type": "code",
   "execution_count": 29,
   "metadata": {},
   "outputs": [
    {
     "data": {
      "text/plain": [
       "0"
      ]
     },
     "execution_count": 29,
     "metadata": {},
     "output_type": "execute_result"
    }
   ],
   "source": [
    "cloud.plot(backend=\"threejs\", initial_point_size=10, use_as_color=\"y\", cmap=\"viridis_r\")\n",
    "# Move files into folder: threejs_plot\n",
    "if os.path.isdir('threejs_tmp'):\n",
    "    subprocess.check_call(['rm', '-rf', 'threejs_tmp'])\n",
    "subprocess.check_call(['mkdir', 'threejs_tmp'])\n",
    "files = glob.glob('pyntcloud_plot*')\n",
    "for file in files:\n",
    "    subprocess.check_call(['mv', file, 'threejs_tmp/.'])\n",
    "\n",
    "# Open html file:\n",
    "subprocess.check_call(['open', 'threejs_tmp/pyntcloud_plot.html'])\n",
    "\n",
    "# Clean up\n",
    "time.sleep(5)\n",
    "subprocess.check_call(['rm', '-rf', 'threejs_tmp'])"
   ]
  },
  {
   "cell_type": "markdown",
   "metadata": {},
   "source": [
    "### Cross plot filtered and unfiltered point-cloud with pythreejs backend"
   ]
  },
  {
   "cell_type": "code",
   "execution_count": null,
   "metadata": {},
   "outputs": [],
   "source": [
    "scene = filter_cloud(cloud, 'SOR', 1.5, 0.5)\n",
    "x_plot(scene, cloud, offset='x')"
   ]
  },
  {
   "cell_type": "markdown",
   "metadata": {},
   "source": [
    "### Save point-cloud to `.ply`"
   ]
  },
  {
   "cell_type": "code",
   "execution_count": null,
   "metadata": {},
   "outputs": [],
   "source": [
    "cloud.to_file(dest_path)"
   ]
  }
 ],
 "metadata": {
  "kernelspec": {
   "display_name": "Python [conda env:pyntcloud]",
   "language": "python",
   "name": "conda-env-pyntcloud-py"
  },
  "language_info": {
   "codemirror_mode": {
    "name": "ipython",
    "version": 3
   },
   "file_extension": ".py",
   "mimetype": "text/x-python",
   "name": "python",
   "nbconvert_exporter": "python",
   "pygments_lexer": "ipython3",
   "version": "3.6.6"
  }
 },
 "nbformat": 4,
 "nbformat_minor": 2
}
